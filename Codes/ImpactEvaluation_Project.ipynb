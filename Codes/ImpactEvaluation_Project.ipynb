{
 "cells": [
  {
   "cell_type": "markdown",
   "id": "54f7bbe1",
   "metadata": {},
   "source": [
    "# 1. Layout of the Model\n",
    "## (need to change the path to see the results)"
   ]
  },
  {
   "cell_type": "markdown",
   "id": "4c0b793e",
   "metadata": {},
   "source": [
    "The empirical analysis in this paper is based on survey data from the IPUMS USA, providing detailed \n",
    "information on U.S. individuals. This dataset offers a representative sample of the U.S. population, \n",
    "including demographic, economic, and health-related characteristics, making it a valuable resource for \n",
    "analyzing the impact of policy changes like Medicaid expansion. \n",
    "Several key variables were added to the dataset related to health insurance coverage, Medicaid \n",
    "enrollment, and socioeconomic characteristics such as income, education, employment status, and \n",
    "race/ethnicity. Including these variables, it is possible to evaluate the impact of Medicaid expansion on \n",
    "health insurance coverage, as they allow us to control for complex factors. The sample starts in 2011 and \n",
    "ends in 2017. "
   ]
  },
  {
   "cell_type": "code",
   "execution_count": 18,
   "id": "a36bc21f",
   "metadata": {},
   "outputs": [],
   "source": [
    "import numpy as np\n",
    "import pandas as pd\n",
    "from statsmodels.formula.api import ols\n",
    "import matplotlib.pyplot as plt\n",
    "\n",
    "\n",
    "# Medicaid expansion years dictionary\n",
    "medicaid_expansion_years = {\n",
    "    1: np.nan,  2: 2015,  4: 2014,  5: 2014,  6: 2014,  8: 2014,  9: 2014,  10: 2014,  11: 2014,\n",
    "    12: np.nan, 13: np.nan, 15: 2014, 16: 2020, 17: 2014, 18: 2015, 19: 2014, 20: np.nan, 21: 2014,\n",
    "    22: 2016, 23: 2019, 24: 2014, 25: 2014, 26: 2014, 27: 2014, 28: np.nan, 29: 2021, 30: 2016,\n",
    "    31: 2020, 32: 2014, 33: 2014, 34: 2014, 35: 2014, 36: 2014, 37: 2023, 38: 2014, 39: 2014,\n",
    "    40: 2021, 41: 2014, 42: 2015, 44: 2014, 45: np.nan, 46: 2023, 47: np.nan, 48: np.nan, 49: 2020,\n",
    "    50: 2014, 51: 2019, 53: 2014, 54: 2014, 55: np.nan, 56: np.nan\n",
    "}\n",
    "\n",
    "# Loading the dataset (path is needed to be changed here)\n",
    "df = pd.read_csv(r\"C:\\Users\\user\\Desktop\\usa_00019.csv\")\n",
    "\n",
    "# Adding Medicaid expansion status\n",
    "df['Medicaid_expansion'] = df['STATEFIP'].map(lambda x: 1 if pd.notna(medicaid_expansion_years.get(x)) else 0)\n",
    "\n",
    "# Filtering for three states that expanded Medicaid in 2014 and three that did not\n",
    "expanded_states = [53, 41, 32, 6, 8, 4, 35, 38, 19, 27, 17, 5, 26, 39, 21, 54, 36, 50, 33, 11, 25, 44, 9, 34, 10, 24]  # Example: CA, CO, CT\n",
    "non_expanded_states = [1, 13, 28, 45, 47, 12, 48, 20, 56, 55]  \n",
    "df_subset = df[df['STATEFIP'].isin(expanded_states + non_expanded_states)].copy()\n",
    "\n",
    "# Defining the post-treatment variable\n",
    "df_subset.loc[:, 'POST_TREATMENT'] = df_subset['YEAR'].apply(lambda x: 1 if x >= 2014 else 0)\n",
    "\n",
    "# Ensuring outcome variables are binary\n",
    "df_subset.loc[:, 'HCOVANY'] = df_subset['HCOVANY'].apply(lambda x: 1 if x == 2 else 0)\n",
    "df_subset.loc[:, 'HINSCAID'] = df_subset['HINSCAID'].apply(lambda x: 1 if x == 2 else 0)\n",
    "\n",
    "# Creating the DiD interaction term\n",
    "df_subset.loc[:, 'DID'] = df_subset['Medicaid_expansion'] * df_subset['POST_TREATMENT']\n",
    "\n",
    "# Filtering for individuals with poverty between 100% and 300%\n",
    "df_subset = df_subset[(df_subset['POVERTY'] >= 100) & (df_subset['POVERTY'] <= 300)]\n",
    "\n",
    "# Transforming SEX into binary\n",
    "df_subset = df_subset[df_subset['SEX'].isin([1, 2])]  # Keep valid SEX values\n",
    "df_subset.loc[:, 'SEX'] = df_subset['SEX'].apply(lambda x: 0 if x == 1 else 1)\n",
    "\n",
    "# Simplifying RACE variable\n",
    "df_subset.loc[:, 'RACE'] = df_subset['RACE'].replace({\n",
    "    1: 'White',\n",
    "    2: 'Black',\n",
    "    4: 'Asian',  # Combine Asian groups\n",
    "    5: 'Asian',\n",
    "    6: 'Asian',\n",
    "    3: 'Other',  # Combine other races\n",
    "    7: 'Other',\n",
    "    8: 'Other',\n",
    "    9: 'Other'\n",
    "})\n",
    "\n",
    "# Simplifying EDUC variable\n",
    "df_subset.loc[:, 'EDUC'] = df_subset['EDUC'].replace({\n",
    "    0: 'No schooling',\n",
    "    1: 'No schooling',     \n",
    "    2: 'Less than high school',\n",
    "    3: 'Less than high school',\n",
    "    4: 'Less than high school',\n",
    "    5: 'Less than high school',\n",
    "    6: 'High school',\n",
    "    7: 'Some college',\n",
    "    8: 'Some college',\n",
    "    9: 'Some college',\n",
    "    10: 'College graduate',\n",
    "    11: 'Postgraduate'\n",
    "})\n",
    "\n",
    "# Filtering EMPSTAT to retain valid values\n",
    "df_subset = df_subset[df_subset['EMPSTAT'].isin([1, 2, 3])]\n",
    "\n",
    "# Dropping rows with any missing values\n",
    "df_subset = df_subset.dropna()\n",
    "\n",
    "\n"
   ]
  },
  {
   "cell_type": "markdown",
   "id": "bebd3565",
   "metadata": {},
   "source": [
    "# 4. Descriptive Statistics"
   ]
  },
  {
   "cell_type": "code",
   "execution_count": null,
   "id": "021e43a8",
   "metadata": {},
   "outputs": [
    {
     "name": "stdout",
     "output_type": "stream",
     "text": [
      "                       count       mean        std   min   25%   50%   75%  \\\n",
      "HCOVANY             114553.0   1.846447   0.360522   1.0   2.0   2.0   2.0   \n",
      "HINSCAID            114553.0   1.127103   0.333089   1.0   1.0   1.0   1.0   \n",
      "AGE                 114553.0  43.587073  12.703025  21.0  33.0  45.0  55.0   \n",
      "Medicaid_expansion  114553.0   0.737266   0.440121   0.0   0.0   1.0   1.0   \n",
      "\n",
      "                     max  missing  unique  \n",
      "HCOVANY              2.0        0       2  \n",
      "HINSCAID             2.0        0       2  \n",
      "AGE                 64.0        0      44  \n",
      "Medicaid_expansion   1.0        0       2  \n"
     ]
    }
   ],
   "source": [
    "# List of expected variables\n",
    "variables = ['HCOVANY', 'HINSCAID', 'AGE', 'Medicaid_expansion', 'POST_TREATMENT', 'DID']\n",
    "\n",
    "# Filter the list to include only variables that exist in the dataset\n",
    "existing_variables = [var for var in variables if var in df.columns]\n",
    "\n",
    "# Create a summary statistics table for existing variables\n",
    "summary_stats = df[existing_variables].describe(include='all').transpose()\n",
    "\n",
    "# Add additional statistics\n",
    "summary_stats['missing'] = df[existing_variables].isnull().sum()  # Count missing values\n",
    "summary_stats['unique'] = df[existing_variables].nunique()  # Count unique values (categorical variables)\n",
    "summary_stats = summary_stats[['count', 'mean', 'std', 'min', '25%', '50%', '75%', 'max', 'missing', 'unique']]\n",
    "\n",
    "# Print the summary statistics\n",
    "print(summary_stats)\n",
    "\n",
    "# Save to CSV\n",
    "summary_stats.to_csv(\"summary_statistics.csv\", index=True)\n"
   ]
  },
  {
   "cell_type": "code",
   "execution_count": null,
   "id": "e3e0eb27",
   "metadata": {},
   "outputs": [
    {
     "name": "stdout",
     "output_type": "stream",
     "text": [
      "RACE\n",
      "White    87586\n",
      "Black    12465\n",
      "Other     8078\n",
      "Asian     6424\n",
      "Name: count, dtype: int64\n"
     ]
    }
   ],
   "source": [
    "# Simplify RACE variable\n",
    "df['RACE'] = df['RACE'].replace({\n",
    "    1: 'White',\n",
    "    2: 'Black',\n",
    "    4: 'Asian',  # Combine Asian groups\n",
    "    5: 'Asian',\n",
    "    6: 'Asian',\n",
    "    3: 'Other',  # Combine other races\n",
    "    7: 'Other',\n",
    "    8: 'Other',\n",
    "    9: 'Other'\n",
    "})\n",
    "# Clarify POVERTY as percentage of federal poverty line\n",
    "df.rename(columns={'POVERTY': 'POVERTY_PERCENT'}, inplace=True)\n",
    "\n",
    "\n",
    "# Simplify EDUC variable into broader categories\n",
    "df['EDUC'] = df['EDUC'].replace({\n",
    "    'No schooling': 'Low',\n",
    "    'Less than high school': 'Low',\n",
    "    'High school': 'Medium',\n",
    "    'Some college': 'Medium',\n",
    "    'College graduate': 'High',\n",
    "    'Postgraduate': 'High'\n",
    "})\n",
    "# Check distribution of RACE\n",
    "print(df['RACE'].value_counts())\n",
    "\n",
    "\n"
   ]
  },
  {
   "cell_type": "code",
   "execution_count": null,
   "id": "313775f5",
   "metadata": {},
   "outputs": [
    {
     "name": "stdout",
     "output_type": "stream",
     "text": [
      "EDUC\n",
      "6     40198\n",
      "10    22987\n",
      "7     18061\n",
      "11    12770\n",
      "8     10120\n",
      "2      2663\n",
      "5      2328\n",
      "4      1893\n",
      "3      1534\n",
      "0      1480\n",
      "1       519\n",
      "Name: count, dtype: int64\n",
      "count    114553.000000\n",
      "mean        320.100399\n",
      "std         171.154901\n",
      "min           0.000000\n",
      "25%         175.000000\n",
      "50%         344.000000\n",
      "75%         501.000000\n",
      "max         501.000000\n",
      "Name: POVERTY_PERCENT, dtype: float64\n"
     ]
    }
   ],
   "source": [
    "# Check distribution of EDUC\n",
    "print(df['EDUC'].value_counts())\n",
    "\n",
    "# Check summary statistics for POVERTY_PERCENT\n",
    "print(df['POVERTY_PERCENT'].describe())"
   ]
  },
  {
   "cell_type": "code",
   "execution_count": null,
   "id": "0ce3ca58",
   "metadata": {},
   "outputs": [
    {
     "name": "stdout",
     "output_type": "stream",
     "text": [
      "Distribution of Men and Women:\n",
      "Male      58129\n",
      "Female    56424\n",
      "Name: count, dtype: int64\n",
      "\n",
      "Proportions of Men and Women (%):\n",
      "Male      50.744197\n",
      "Female    49.255803\n",
      "Name: count, dtype: float64\n"
     ]
    }
   ],
   "source": [
    "# Check the distribution of SEX (1 = Male, 2 = Female)\n",
    "sex_distribution = df['SEX'].value_counts()\n",
    "\n",
    "# Rename for clarity\n",
    "sex_distribution.index = ['Male', 'Female']\n",
    "\n",
    "# Display the distribution\n",
    "print(\"Distribution of Men and Women:\")\n",
    "print(sex_distribution)\n",
    "\n",
    "# Calculate proportions\n",
    "sex_proportion = sex_distribution / sex_distribution.sum() * 100\n",
    "print(\"\\nProportions of Men and Women (%):\")\n",
    "print(sex_proportion)\n"
   ]
  },
  {
   "cell_type": "code",
   "execution_count": null,
   "id": "96850183",
   "metadata": {},
   "outputs": [
    {
     "name": "stdout",
     "output_type": "stream",
     "text": [
      "Distribution of Employment Status:\n",
      "Employed              81174\n",
      "Not in Labor Force    27966\n",
      "Unemployed             5413\n",
      "Name: count, dtype: int64\n",
      "\n",
      "Proportions of Employment Status (%):\n",
      "Employed              70.861523\n",
      "Not in Labor Force    24.413154\n",
      "Unemployed             4.725324\n",
      "Name: count, dtype: float64\n"
     ]
    }
   ],
   "source": [
    "# Check the distribution of EMPSTAT\n",
    "employment_distribution = df['EMPSTAT'].value_counts()\n",
    "\n",
    "# Rename for clarity\n",
    "employment_labels = {1: 'Employed', 2: 'Unemployed', 3: 'Not in Labor Force'}\n",
    "employment_distribution.index = [employment_labels.get(x, f\"Unknown ({x})\") for x in employment_distribution.index]\n",
    "\n",
    "# Display the distribution\n",
    "print(\"Distribution of Employment Status:\")\n",
    "print(employment_distribution)\n",
    "\n",
    "# Calculate proportions\n",
    "employment_proportion = employment_distribution / employment_distribution.sum() * 100\n",
    "print(\"\\nProportions of Employment Status (%):\")\n",
    "print(employment_proportion)\n"
   ]
  },
  {
   "cell_type": "code",
   "execution_count": null,
   "id": "de8d698b",
   "metadata": {},
   "outputs": [
    {
     "name": "stdout",
     "output_type": "stream",
     "text": [
      "Distribution of Health Insurance Coverage (HCOVANY):\n",
      "Covered        96963\n",
      "Not Covered    17590\n",
      "Name: count, dtype: int64\n",
      "\n",
      "Distribution of Medicaid Coverage (HINSCAID):\n",
      "Not Covered    99993\n",
      "Covered        14560\n",
      "Name: count, dtype: int64\n",
      "\n",
      "Proportions of Health Insurance Coverage (HCOVANY) (%):\n",
      "Covered        84.644662\n",
      "Not Covered    15.355338\n",
      "Name: count, dtype: float64\n",
      "\n",
      "Proportions of Medicaid Coverage (HINSCAID) (%):\n",
      "Not Covered    87.289726\n",
      "Covered        12.710274\n",
      "Name: count, dtype: float64\n"
     ]
    }
   ],
   "source": [
    "# Check the distribution of HCOVANY and HINSCAID\n",
    "hcovany_distribution = df['HCOVANY'].value_counts()\n",
    "hinscaid_distribution = df['HINSCAID'].value_counts()\n",
    "\n",
    "# Rename for clarity\n",
    "coverage_labels = {1: 'Not Covered', 2: 'Covered'}\n",
    "hcovany_distribution.index = [coverage_labels.get(x, f\"Unknown ({x})\") for x in hcovany_distribution.index]\n",
    "hinscaid_distribution.index = [coverage_labels.get(x, f\"Unknown ({x})\") for x in hinscaid_distribution.index]\n",
    "\n",
    "# Display distributions\n",
    "print(\"Distribution of Health Insurance Coverage (HCOVANY):\")\n",
    "print(hcovany_distribution)\n",
    "\n",
    "print(\"\\nDistribution of Medicaid Coverage (HINSCAID):\")\n",
    "print(hinscaid_distribution)\n",
    "\n",
    "# Calculate proportions\n",
    "hcovany_proportion = hcovany_distribution / hcovany_distribution.sum() * 100\n",
    "hinscaid_proportion = hinscaid_distribution / hinscaid_distribution.sum() * 100\n",
    "\n",
    "print(\"\\nProportions of Health Insurance Coverage (HCOVANY) (%):\")\n",
    "print(hcovany_proportion)\n",
    "\n",
    "print(\"\\nProportions of Medicaid Coverage (HINSCAID) (%):\")\n",
    "print(hinscaid_proportion)\n"
   ]
  },
  {
   "cell_type": "markdown",
   "id": "eca3cf66",
   "metadata": {},
   "source": [
    "In the \n",
    "USA,  a significant majority (85%) of people are insured. It is clear that only 13% of individuals are \n",
    "enrolled in Medicaid. The average age off the population is 44 years old, ranging from 21 to 64. The \n",
    "majority of individuals identify as White (76%), which is followed by Black (11%). Educational \n",
    "attainment varies, with 35% having completed high school, 25% having attended some college, and \n",
    "others. The gender distribution of the dataset is almost split 50/50. The majority of individuals are \n",
    "employed (71%), while 24% are not in the labour force and 5% are unemployed. Poverty levels range \n",
    "from 0% to 501%. These different characteristics will help us understand how Medicaid expansion \n",
    "influence different population subgroups in the country. "
   ]
  },
  {
   "cell_type": "markdown",
   "id": "728bd1da",
   "metadata": {},
   "source": [
    "# 2. Running Regressions"
   ]
  },
  {
   "cell_type": "code",
   "execution_count": 3,
   "id": "2af86ecb",
   "metadata": {},
   "outputs": [
    {
     "name": "stdout",
     "output_type": "stream",
     "text": [
      "Baseline Health Insurance Coverage Model (No Controls):\n",
      "                            OLS Regression Results                            \n",
      "==============================================================================\n",
      "Dep. Variable:                HCOVANY   R-squared:                       0.028\n",
      "Model:                            OLS   Adj. R-squared:                  0.028\n",
      "Method:                 Least Squares   F-statistic:                     252.0\n",
      "Date:                Sun, 01 Dec 2024   Prob (F-statistic):          2.79e-161\n",
      "Time:                        18:33:24   Log-Likelihood:                -14728.\n",
      "No. Observations:               26582   AIC:                         2.946e+04\n",
      "Df Residuals:                   26578   BIC:                         2.950e+04\n",
      "Df Model:                           3                                         \n",
      "Covariance Type:            nonrobust                                         \n",
      "======================================================================================\n",
      "                         coef    std err          t      P>|t|      [0.025      0.975]\n",
      "--------------------------------------------------------------------------------------\n",
      "Intercept              0.6737      0.006    112.959      0.000       0.662       0.685\n",
      "Medicaid_expansion     0.0427      0.007      5.739      0.000       0.028       0.057\n",
      "POST_TREATMENT         0.0931      0.009     10.852      0.000       0.076       0.110\n",
      "DID                    0.0508      0.011      4.723      0.000       0.030       0.072\n",
      "==============================================================================\n",
      "Omnibus:                     4442.545   Durbin-Watson:                   1.555\n",
      "Prob(Omnibus):                  0.000   Jarque-Bera (JB):             6255.356\n",
      "Skew:                          -1.161   Prob(JB):                         0.00\n",
      "Kurtosis:                       2.493   Cond. No.                         7.89\n",
      "==============================================================================\n",
      "\n",
      "Notes:\n",
      "[1] Standard Errors assume that the covariance matrix of the errors is correctly specified.\n"
     ]
    }
   ],
   "source": [
    "# Baseline DiD model for HCOVANY (no controls)\n",
    "baseline_model_coverage = ols(\"HCOVANY ~ Medicaid_expansion + POST_TREATMENT + DID\", data=df_subset).fit()\n",
    "# Print baseline results for HCOVANY\n",
    "print(\"Baseline Health Insurance Coverage Model (No Controls):\")\n",
    "print(baseline_model_coverage.summary())\n"
   ]
  },
  {
   "cell_type": "code",
   "execution_count": 4,
   "id": "ae8c92eb",
   "metadata": {},
   "outputs": [
    {
     "name": "stdout",
     "output_type": "stream",
     "text": [
      "\n",
      "Baseline Medicaid Coverage Model (No Controls):\n",
      "                            OLS Regression Results                            \n",
      "==============================================================================\n",
      "Dep. Variable:               HINSCAID   R-squared:                       0.032\n",
      "Model:                            OLS   Adj. R-squared:                  0.032\n",
      "Method:                 Least Squares   F-statistic:                     293.4\n",
      "Date:                Sun, 01 Dec 2024   Prob (F-statistic):          2.21e-187\n",
      "Time:                        18:33:25   Log-Likelihood:                -11894.\n",
      "No. Observations:               26582   AIC:                         2.380e+04\n",
      "Df Residuals:                   26578   BIC:                         2.383e+04\n",
      "Df Model:                           3                                         \n",
      "Covariance Type:            nonrobust                                         \n",
      "======================================================================================\n",
      "                         coef    std err          t      P>|t|      [0.025      0.975]\n",
      "--------------------------------------------------------------------------------------\n",
      "Intercept              0.1075      0.005     20.053      0.000       0.097       0.118\n",
      "Medicaid_expansion     0.0542      0.007      8.111      0.000       0.041       0.067\n",
      "POST_TREATMENT         0.0162      0.008      2.099      0.036       0.001       0.031\n",
      "DID                    0.1039      0.010     10.752      0.000       0.085       0.123\n",
      "==============================================================================\n",
      "Omnibus:                     6254.435   Durbin-Watson:                   1.588\n",
      "Prob(Omnibus):                  0.000   Jarque-Bera (JB):            11696.028\n",
      "Skew:                           1.583   Prob(JB):                         0.00\n",
      "Kurtosis:                       3.732   Cond. No.                         7.89\n",
      "==============================================================================\n",
      "\n",
      "Notes:\n",
      "[1] Standard Errors assume that the covariance matrix of the errors is correctly specified.\n"
     ]
    }
   ],
   "source": [
    "# Baseline DiD model for HINSCAID (no controls)\n",
    "baseline_model_medicaid = ols(\"HINSCAID ~ Medicaid_expansion + POST_TREATMENT + DID\", data=df_subset).fit()\n",
    "# Print baseline results for HINSCAID\n",
    "print(\"\\nBaseline Medicaid Coverage Model (No Controls):\")\n",
    "print(baseline_model_medicaid.summary())"
   ]
  },
  {
   "cell_type": "markdown",
   "id": "223e052d",
   "metadata": {},
   "source": [
    "Prior to Medicaid expansion, 67.36% of people in non-expansion states had health insurance, compared \n",
    "to 4.27 percentage points more in expansion states, according to the baseline Difference-in-Differences \n",
    "model. Overall, health insurance coverage rose by 9.31 percentage points after 2014, with expansion \n",
    "states seeing an additional 5.08 percentage point gain in coverage relative to non-expansion states as a \n",
    "result of the policy. In the fully adjusted model, these effects—including the impact of the Medicaid \n",
    "expansion—remained statistically significant. "
   ]
  },
  {
   "cell_type": "code",
   "execution_count": 5,
   "id": "0a0e6848",
   "metadata": {},
   "outputs": [
    {
     "name": "stdout",
     "output_type": "stream",
     "text": [
      "\n",
      "Full Health Insurance Coverage Model (With Controls):\n",
      "                            OLS Regression Results                            \n",
      "==============================================================================\n",
      "Dep. Variable:                HCOVANY   R-squared:                       0.078\n",
      "Model:                            OLS   Adj. R-squared:                  0.078\n",
      "Method:                 Least Squares   F-statistic:                     160.7\n",
      "Date:                Sun, 01 Dec 2024   Prob (F-statistic):               0.00\n",
      "Time:                        18:33:25   Log-Likelihood:                -14020.\n",
      "No. Observations:               26582   AIC:                         2.807e+04\n",
      "Df Residuals:                   26567   BIC:                         2.819e+04\n",
      "Df Model:                          14                                         \n",
      "Covariance Type:            nonrobust                                         \n",
      "=================================================================================================\n",
      "                                    coef    std err          t      P>|t|      [0.025      0.975]\n",
      "-------------------------------------------------------------------------------------------------\n",
      "Intercept                         0.6007      0.016     37.187      0.000       0.569       0.632\n",
      "EDUC[T.High school]              -0.1055      0.008    -13.053      0.000      -0.121      -0.090\n",
      "EDUC[T.Less than high school]    -0.2550      0.010    -24.353      0.000      -0.276      -0.234\n",
      "EDUC[T.No schooling]             -0.1867      0.016    -11.347      0.000      -0.219      -0.154\n",
      "EDUC[T.Postgraduate]              0.0268      0.014      1.867      0.062      -0.001       0.055\n",
      "EDUC[T.Some college]             -0.0461      0.009     -5.329      0.000      -0.063      -0.029\n",
      "RACE[T.Black]                     0.0266      0.013      2.022      0.043       0.001       0.052\n",
      "RACE[T.Other]                    -0.0882      0.013     -6.571      0.000      -0.114      -0.062\n",
      "RACE[T.White]                     0.0036      0.011      0.319      0.750      -0.019       0.026\n",
      "Medicaid_expansion                0.0491      0.007      6.736      0.000       0.035       0.063\n",
      "POST_TREATMENT                    0.0897      0.008     10.738      0.000       0.073       0.106\n",
      "DID                               0.0486      0.010      4.634      0.000       0.028       0.069\n",
      "EMPSTAT                        2.557e-05      0.003      0.009      0.993      -0.006       0.006\n",
      "AGE                               0.0035      0.000     17.115      0.000       0.003       0.004\n",
      "SEX                               0.0372      0.005      7.281      0.000       0.027       0.047\n",
      "==============================================================================\n",
      "Omnibus:                     3853.055   Durbin-Watson:                   1.595\n",
      "Prob(Omnibus):                  0.000   Jarque-Bera (JB):             5378.173\n",
      "Skew:                          -1.082   Prob(JB):                         0.00\n",
      "Kurtosis:                       2.580   Cond. No.                         415.\n",
      "==============================================================================\n",
      "\n",
      "Notes:\n",
      "[1] Standard Errors assume that the covariance matrix of the errors is correctly specified.\n"
     ]
    }
   ],
   "source": [
    "# Full DiD model for HCOVANY (with controls)\n",
    "full_model_coverage = ols(\"HCOVANY ~ Medicaid_expansion + POST_TREATMENT + DID + EDUC + EMPSTAT + AGE + SEX + RACE\", data=df_subset).fit()\n",
    "# Print full results for HCOVANY\n",
    "print(\"\\nFull Health Insurance Coverage Model (With Controls):\")\n",
    "print(full_model_coverage.summary())"
   ]
  },
  {
   "cell_type": "code",
   "execution_count": 6,
   "id": "d0e043fb",
   "metadata": {
    "scrolled": true
   },
   "outputs": [
    {
     "name": "stdout",
     "output_type": "stream",
     "text": [
      "\n",
      "Full Medicaid Coverage Model (With Controls):\n",
      "                            OLS Regression Results                            \n",
      "==============================================================================\n",
      "Dep. Variable:               HINSCAID   R-squared:                       0.091\n",
      "Model:                            OLS   Adj. R-squared:                  0.091\n",
      "Method:                 Least Squares   F-statistic:                     191.0\n",
      "Date:                Sun, 01 Dec 2024   Prob (F-statistic):               0.00\n",
      "Time:                        18:33:25   Log-Likelihood:                -11052.\n",
      "No. Observations:               26582   AIC:                         2.213e+04\n",
      "Df Residuals:                   26567   BIC:                         2.226e+04\n",
      "Df Model:                          14                                         \n",
      "Covariance Type:            nonrobust                                         \n",
      "=================================================================================================\n",
      "                                    coef    std err          t      P>|t|      [0.025      0.975]\n",
      "-------------------------------------------------------------------------------------------------\n",
      "Intercept                        -0.0389      0.014     -2.689      0.007      -0.067      -0.011\n",
      "EDUC[T.High school]               0.0827      0.007     11.438      0.000       0.069       0.097\n",
      "EDUC[T.Less than high school]     0.1107      0.009     11.818      0.000       0.092       0.129\n",
      "EDUC[T.No schooling]              0.1454      0.015      9.885      0.000       0.117       0.174\n",
      "EDUC[T.Postgraduate]             -0.0093      0.013     -0.722      0.470      -0.035       0.016\n",
      "EDUC[T.Some college]              0.0547      0.008      7.070      0.000       0.040       0.070\n",
      "RACE[T.Black]                     0.0526      0.012      4.464      0.000       0.030       0.076\n",
      "RACE[T.Other]                    -0.0056      0.012     -0.469      0.639      -0.029       0.018\n",
      "RACE[T.White]                    -0.0272      0.010     -2.672      0.008      -0.047      -0.007\n",
      "Medicaid_expansion                0.0547      0.007      8.383      0.000       0.042       0.067\n",
      "POST_TREATMENT                    0.0178      0.007      2.380      0.017       0.003       0.032\n",
      "DID                               0.1085      0.009     11.573      0.000       0.090       0.127\n",
      "EMPSTAT                           0.0899      0.003     34.056      0.000       0.085       0.095\n",
      "AGE                              -0.0016      0.000     -8.724      0.000      -0.002      -0.001\n",
      "SEX                               0.0269      0.005      5.890      0.000       0.018       0.036\n",
      "==============================================================================\n",
      "Omnibus:                     5486.423   Durbin-Watson:                   1.592\n",
      "Prob(Omnibus):                  0.000   Jarque-Bera (JB):             9554.603\n",
      "Skew:                           1.432   Prob(JB):                         0.00\n",
      "Kurtosis:                       3.656   Cond. No.                         415.\n",
      "==============================================================================\n",
      "\n",
      "Notes:\n",
      "[1] Standard Errors assume that the covariance matrix of the errors is correctly specified.\n"
     ]
    }
   ],
   "source": [
    "# Full DiD model for HINSCAID (with controls)\n",
    "full_model_medicaid = ols(\"HINSCAID ~ Medicaid_expansion + POST_TREATMENT + DID + EDUC + EMPSTAT + AGE + SEX + RACE\", data=df_subset).fit()\n",
    "# Print full results for HINSCAID\n",
    "print(\"\\nFull Medicaid Coverage Model (With Controls):\")\n",
    "print(full_model_medicaid.summary())"
   ]
  },
  {
   "cell_type": "markdown",
   "id": "8ec8c425",
   "metadata": {},
   "source": [
    "According to the Full Health Insurance Coverage Model, Medicaid expansion and the post-treatment \n",
    "period are important factors that increase coverage rates by 4.91 and 8.97 percentage points, respectively. \n",
    "The interaction term (DID) also contributes an extra 4.86 percentage points to the increase in coverage \n",
    "rates. A distinct gradient in educational attainment is evident, with lower education levels (such as not \n",
    "attending school or having completed less than high school) being linked to noticeably lower coverage \n",
    "rates as compared to the reference group (College graduates). Gender and age also have an impact; \n",
    "women and older people have greater rates of health insurance coverage. After adjusting for other factors, \n",
    "the coefficients for race show variations in coverage compared to the reference group (Asian), with Black \n",
    "people having somewhat better coverage and those in the \"Other\" category having lower coverage. \n",
    "With a significant DID impact of 10.85 percentage points, Medicaid expansion raised Medicaid coverage \n",
    "by 5.47 percentage points in the Full Medicaid Coverage Model, while the post-treatment period added \n",
    "1.78 percentage points. Higher Medicaid coverage was linked to lower educational attainment, which \n",
    "might be a reflection of the program's emphasis on economically disadvantaged groups. In comparison \n",
    "to the reference group, racial disparities were found, with White people having somewhat lower Medicaid \n",
    "coverage and Black people having higher coverage. Medicaid coverage was negatively impacted by age, \n",
    "but higher coverage rates were linked to female gender and work status. These findings demonstrate \n",
    "complex relationships across racial and socioeconomic categories and emphasize the significance of \n",
    "Medicaid expansion and demographic factors in determining coverage patterns. "
   ]
  },
  {
   "cell_type": "markdown",
   "id": "f4cec11d",
   "metadata": {},
   "source": [
    "# 3. Event Study "
   ]
  },
  {
   "cell_type": "code",
   "execution_count": 7,
   "id": "21b2ce7e",
   "metadata": {
    "scrolled": true
   },
   "outputs": [
    {
     "name": "stdout",
     "output_type": "stream",
     "text": [
      "                            OLS Regression Results                            \n",
      "==============================================================================\n",
      "Dep. Variable:                HCOVANY   R-squared:                       0.028\n",
      "Model:                            OLS   Adj. R-squared:                  0.028\n",
      "Method:                 Least Squares   F-statistic:                     110.0\n",
      "Date:                Sun, 01 Dec 2024   Prob (F-statistic):          1.30e-159\n",
      "Time:                        18:33:25   Log-Likelihood:                -14721.\n",
      "No. Observations:               26582   AIC:                         2.946e+04\n",
      "Df Residuals:                   26574   BIC:                         2.952e+04\n",
      "Df Model:                           7                                         \n",
      "Covariance Type:            nonrobust                                         \n",
      "======================================================================================\n",
      "                         coef    std err          t      P>|t|      [0.025      0.975]\n",
      "--------------------------------------------------------------------------------------\n",
      "Intercept              0.6737      0.006    112.979      0.000       0.662       0.685\n",
      "Medicaid_expansion     0.0418      0.005      8.617      0.000       0.032       0.051\n",
      "POST_TREATMENT         0.0931      0.009     10.854      0.000       0.076       0.110\n",
      "DID                    0.0389      0.006      6.446      0.000       0.027       0.051\n",
      "time_2011_treat       -0.0141      0.007     -2.045      0.041      -0.028      -0.001\n",
      "time_2012_treat       -0.0028      0.007     -0.407      0.684      -0.017       0.011\n",
      "time_2013_treat        0.0199      0.007      2.849      0.004       0.006       0.034\n",
      "time_2015_treat        0.0027      0.007      0.387      0.699      -0.011       0.016\n",
      "time_2016_treat        0.0125      0.007      1.779      0.075      -0.001       0.026\n",
      "time_2017_treat        0.0238      0.007      3.368      0.001       0.010       0.038\n",
      "==============================================================================\n",
      "Omnibus:                     4436.663   Durbin-Watson:                   1.556\n",
      "Prob(Omnibus):                  0.000   Jarque-Bera (JB):             6245.070\n",
      "Skew:                          -1.160   Prob(JB):                         0.00\n",
      "Kurtosis:                       2.493   Cond. No.                     3.30e+15\n",
      "==============================================================================\n",
      "\n",
      "Notes:\n",
      "[1] Standard Errors assume that the covariance matrix of the errors is correctly specified.\n",
      "[2] The smallest eigenvalue is 4.83e-27. This might indicate that there are\n",
      "strong multicollinearity problems or that the design matrix is singular.\n",
      "Coefficients:\n",
      "time_2011_treat   -0.014146\n",
      "time_2012_treat   -0.002836\n",
      "time_2013_treat    0.019852\n",
      "time_2015_treat    0.002667\n",
      "time_2016_treat    0.012462\n",
      "time_2017_treat    0.023807\n",
      "dtype: float64\n",
      "Confidence Intervals:\n",
      "                        0         1\n",
      "time_2011_treat -0.027707 -0.000585\n",
      "time_2012_treat -0.016506  0.010833\n",
      "time_2013_treat  0.006192  0.033511\n",
      "time_2015_treat -0.010851  0.016185\n",
      "time_2016_treat -0.001268  0.026192\n",
      "time_2017_treat  0.009951  0.037663\n"
     ]
    },
    {
     "data": {
      "image/png": "[encoded data removed]",
      "text/plain": [
       "<Figure size 1000x600 with 1 Axes>"
      ]
     },
     "metadata": {},
     "output_type": "display_data"
    }
   ],
   "source": [
    "# Create time dummies\n",
    "time_dummies = pd.get_dummies(df_subset['YEAR'], prefix='time')\n",
    "\n",
    "# Add time dummies to the DataFrame\n",
    "df_subset = pd.concat([df_subset, time_dummies], axis=1)\n",
    "\n",
    "# Create interaction terms\n",
    "for col in time_dummies.columns:\n",
    "    df_subset[f'{col}_treat'] = df_subset[col] * df_subset['Medicaid_expansion']\n",
    "# Define the formula for the event study model\n",
    "formula = 'HCOVANY ~ Medicaid_expansion + POST_TREATMENT + DID + ' + ' + '.join([f'{col}_treat' for col in time_dummies.columns])\n",
    "\n",
    "# Estimate the model\n",
    "event_study_model = ols(formula, data=df_subset).fit()\n",
    "\n",
    "# Print the summary of the model\n",
    "print(event_study_model.summary())\n",
    "\n",
    "# Filter coefficients and confidence intervals for interaction terms\n",
    "coefficients = event_study_model.params.filter(like='_treat')\n",
    "conf_int = event_study_model.conf_int().loc[coefficients.index]  # Match rows with coefficients\n",
    "\n",
    "# Debugging: Check the structure of coefficients and confidence intervals\n",
    "print(\"Coefficients:\")\n",
    "print(coefficients)\n",
    "print(\"Confidence Intervals:\")\n",
    "print(conf_int)\n",
    "\n",
    "# Extract lower and upper bounds for plotting\n",
    "lower_bound = conf_int[0]  # First column of conf_int\n",
    "upper_bound = conf_int[1]  # Second column of conf_int\n",
    "\n",
    "# Plot the event study results\n",
    "plt.figure(figsize=(10, 6))\n",
    "plt.plot(coefficients.index, coefficients.values, marker='o', linestyle='-', color='b', label='Coefficients')\n",
    "plt.fill_between(coefficients.index, lower_bound, upper_bound, color='b', alpha=0.2, label='95% CI')\n",
    "plt.axhline(y=0, color='r', linestyle='--', label='Zero Effect')\n",
    "plt.xlabel('Time Periods')\n",
    "plt.ylabel('Coefficient')\n",
    "plt.title('Event Study: Impact of Medicaid Expansion on Health Insurance Coverage')\n",
    "plt.xticks(rotation=45)\n",
    "plt.legend()\n",
    "plt.tight_layout()\n",
    "plt.show()\n"
   ]
  },
  {
   "cell_type": "markdown",
   "id": "c5ee08fc",
   "metadata": {},
   "source": [
    "This event study examines the impact of Medicaid expansion on health insurance coverage across \n",
    "multiple time periods. Figure 1 reveals a significant increase in health insurance coverage following \n",
    "Medicaid expansion, particularly in the later post-treatment years (2017). Before the expansion (2011–\n",
    "2012), there were no significant differences in coverage between treated and control states, as indicated \n",
    "by the near-zero coefficients. However, a slight positive trend is observed in 2013, potentially reflecting \n",
    "other factors. In the earlier post-treatment years (2015–2016), the impact was less pronounced. These \n",
    "findings suggest that Medicaid expansion increased health insurance coverage, especially in the long \n",
    "term, while pre-treatment trends provide general support for the parallel trends assumption. "
   ]
  },
  {
   "cell_type": "code",
   "execution_count": 17,
   "id": "655689c4",
   "metadata": {},
   "outputs": [
    {
     "name": "stdout",
     "output_type": "stream",
     "text": [
      "                       count       mean        std   min   25%   50%   75%  \\\n",
      "HCOVANY             114553.0   1.846447   0.360522   1.0   2.0   2.0   2.0   \n",
      "HINSCAID            114553.0   1.127103   0.333089   1.0   1.0   1.0   1.0   \n",
      "AGE                 114553.0  43.587073  12.703025  21.0  33.0  45.0  55.0   \n",
      "SEX                 114553.0   1.507442   0.499947   1.0   1.0   2.0   2.0   \n",
      "RACE                  114553        NaN        NaN   NaN   NaN   NaN   NaN   \n",
      "EDUC                114553.0   7.407698   2.384185   0.0   6.0   7.0  10.0   \n",
      "EMPSTAT             114553.0   1.535516   0.858492   1.0   1.0   1.0   2.0   \n",
      "Medicaid_expansion  114553.0   0.737266   0.440121   0.0   0.0   1.0   1.0   \n",
      "\n",
      "                     max  missing  unique  \n",
      "HCOVANY              2.0        0       2  \n",
      "HINSCAID             2.0        0       2  \n",
      "AGE                 64.0        0      44  \n",
      "SEX                  2.0        0       2  \n",
      "RACE                 NaN        0       4  \n",
      "EDUC                11.0        0      11  \n",
      "EMPSTAT              3.0        0       3  \n",
      "Medicaid_expansion   1.0        0       2  \n"
     ]
    }
   ],
   "source": [
    "# List of expected variables\n",
    "variables = ['HCOVANY', 'HINSCAID', 'AGE', 'SEX', 'RACE', 'EDUC', 'EMPSTAT', 'POVERTY', 'Medicaid_expansion', 'POST_TREATMENT', 'DID']\n",
    "\n",
    "# Filter the list to include only variables that exist in the dataset\n",
    "existing_variables = [var for var in variables if var in df.columns]\n",
    "\n",
    "# Create a summary statistics table for existing variables\n",
    "summary_stats = df[existing_variables].describe(include='all').transpose()\n",
    "\n",
    "# Add additional statistics\n",
    "summary_stats['missing'] = df[existing_variables].isnull().sum()  # Count missing values\n",
    "summary_stats['unique'] = df[existing_variables].nunique()  # Count unique values (categorical variables)\n",
    "summary_stats = summary_stats[['count', 'mean', 'std', 'min', '25%', '50%', '75%', 'max', 'missing', 'unique']]\n",
    "\n",
    "# Print the summary statistics\n",
    "print(summary_stats)\n",
    "\n",
    "# Save to CSV\n",
    "summary_stats.to_csv(\"summary_statistics.csv\", index=True)\n"
   ]
  },
  {
   "cell_type": "code",
   "execution_count": 11,
   "id": "b10b8f83",
   "metadata": {},
   "outputs": [
    {
     "data": {
      "image/png": "[encoded data removed]",
      "text/plain": [
       "<Figure size 800x500 with 1 Axes>"
      ]
     },
     "metadata": {},
     "output_type": "display_data"
    },
    {
     "name": "stdout",
     "output_type": "stream",
     "text": [
      "F-test results for parallel trends assumption:\n",
      "<F test: F=0.2235187768200969, p=0.6363756504594045, df_denom=2.66e+04, df_num=1>\n"
     ]
    }
   ],
   "source": [
    "# Extract pre-treatment coefficients from the event study model\n",
    "pre_treatment_coefficients = coefficients.filter(like='time_20').loc[['time_2011_treat', 'time_2012_treat', 'time_2013_treat']]\n",
    "pre_treatment_conf_int = conf_int.loc[['time_2011_treat', 'time_2012_treat', 'time_2013_treat']]\n",
    "\n",
    "# Visual Inspection: Plot pre-treatment coefficients\n",
    "plt.figure(figsize=(8, 5))\n",
    "plt.errorbar(pre_treatment_coefficients.index, pre_treatment_coefficients.values, \n",
    "             yerr=[pre_treatment_coefficients.values - pre_treatment_conf_int.iloc[:, 0],\n",
    "                   pre_treatment_conf_int.iloc[:, 1] - pre_treatment_coefficients.values],\n",
    "             fmt='o', capsize=5, label='Pre-treatment Coefficients', color='blue')\n",
    "plt.axhline(0, color='red', linestyle='--', label='Zero Effect (Parallel Trend)')\n",
    "plt.title('Pre-treatment Coefficients: Checking Parallel Trends')\n",
    "plt.xlabel('Pre-treatment Years')\n",
    "plt.ylabel('Coefficient')\n",
    "plt.legend()\n",
    "plt.tight_layout()\n",
    "plt.show()\n",
    "\n",
    "# Formal Statistical Test: Joint Hypothesis Test\n",
    "# Null hypothesis: Pre-treatment coefficients are jointly equal to zero\n",
    "# Subset the event study model to include only pre-treatment years\n",
    "pre_treatment_years = ['time_2011_treat', 'time_2012_treat', 'time_2013_treat']\n",
    "subset_formula = f'HCOVANY ~ Medicaid_expansion + POST_TREATMENT + DID + ' + ' + '.join(pre_treatment_years)\n",
    "pre_treatment_model = ols(subset_formula, data=df_subset).fit()\n",
    "\n",
    "# Perform F-test to check joint significance of pre-treatment coefficients\n",
    "f_test = pre_treatment_model.f_test(\" + \".join(pre_treatment_years) + \" = 0\")\n",
    "print(\"F-test results for parallel trends assumption:\")\n",
    "print(f_test)"
   ]
  },
  {
   "cell_type": "markdown",
   "id": "f73db8f3",
   "metadata": {},
   "source": [
    "We conduct the parallel trends assumption check using a pre-treatment analysis. The coefficients for both \n",
    "2011 and 2012 are close to zero, with confidence intervals overlapping zero, indicating no statistically \n",
    "significant differences between the treatment and control groups. The F-test (F = 0.22, p = 0.64) confirms \n",
    "no significant differences in pre-treatment trends. These findings suggest that the treatment and control \n",
    "groups were comparable prior to the Medicaid expansion. "
   ]
  }
 ],
 "metadata": {
  "kernelspec": {
   "display_name": "Python 3 (ipykernel)",
   "language": "python",
   "name": "python3"
  },
  "language_info": {
   "codemirror_mode": {
    "name": "ipython",
    "version": 3
   },
   "file_extension": ".py",
   "mimetype": "text/x-python",
   "name": "python",
   "nbconvert_exporter": "python",
   "pygments_lexer": "ipython3",
   "version": "3.9.7"
  }
 },
 "nbformat": 4,
 "nbformat_minor": 5
}
